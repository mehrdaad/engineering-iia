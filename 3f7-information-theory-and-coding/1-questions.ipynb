{
 "cells": [
  {
   "cell_type": "markdown",
   "metadata": {},
   "source": [
    "# 3F7 Information Theory: Handout 1: Questions\n",
    "\n",
    "#### Key questions to discuss in this course\n",
    "1. How do you quantify information using entropy?\n",
    "    - What is entropy?\n",
    "2. What is the fundamental limit of data compression?\n",
    "3. What is the fundamental limit of reliable data transmission?\n",
    "    - Qs 2 and 3 are two sides of the same coin\n",
    "\n",
    "## Introduction\n",
    "1. Describe (in the abstract) a digital end-to-end communication system to transmit e.g. video.\n",
    "\n",
    "## Probability Review\n",
    "\n",
    "1. What is a random variable?\n",
    "2. Define the following for a discrete random variable X:\n",
    "    - E(X), Var(X), Var(aX) for constant a, E(g(X))\n",
    "3. Define the following for jointly distributed discrete random variables:\n",
    "    - Marginal distributions, conditional distributions, the product rule (deconstruct the joint), the sum rule (marginals)\n",
    "4. Define the following for jointly distributed continuous random variables:\n",
    "    - Joint density function, joint PDF\n",
    "    - Bivariate normal (with mean vector $\\mu$ and covariance matrix $\\Sigma$.\n",
    "\n",
    "## Information Theory Fundamentals\n",
    "\n",
    "1. What is entropy? Why is it useful?\n",
    "2. What are the properties of entropy? Prove these properties.\n",
    "3. What is the entropy of a Bernouilli random variable (i.e. the binary entropy function)?\n"
   ]
  }
 ],
 "metadata": {
  "kernelspec": {
   "display_name": "Python 3",
   "language": "python",
   "name": "python3"
  },
  "language_info": {
   "codemirror_mode": {
    "name": "ipython",
    "version": 3
   },
   "file_extension": ".py",
   "mimetype": "text/x-python",
   "name": "python",
   "nbconvert_exporter": "python",
   "pygments_lexer": "ipython3",
   "version": "3.6.0"
  }
 },
 "nbformat": 4,
 "nbformat_minor": 2
}
